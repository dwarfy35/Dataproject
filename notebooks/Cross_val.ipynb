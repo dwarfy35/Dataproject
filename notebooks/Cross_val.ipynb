{
 "cells": [
  {
   "cell_type": "code",
   "execution_count": 13,
   "metadata": {},
   "outputs": [
    {
     "name": "stdout",
     "output_type": "stream",
     "text": [
      "Best model: Pipeline(steps=[('standardscaler', StandardScaler()),\n",
      "                ('logisticregression',\n",
      "                 LogisticRegression(C=100.0, penalty='l1',\n",
      "                                    solver='liblinear'))])\n",
      "Best parameter (C): {'logisticregression__C': 100.0}\n",
      "Train accuracy: 1.0\n",
      "Test accuracy: 1.0\n"
     ]
    }
   ],
   "source": [
    "import numpy as np\n",
    "from sklearn.datasets import make_classification\n",
    "from sklearn.linear_model import LogisticRegression\n",
    "from sklearn.model_selection import train_test_split, GridSearchCV\n",
    "from sklearn.preprocessing import StandardScaler\n",
    "from sklearn.pipeline import make_pipeline\n",
    "import pandas as pd\n",
    "\n",
    "# Generate some example data\n",
    "#X, y = make_classification(n_samples=1000, n_features=20, n_classes=2, random_state=42)\n",
    "Meth = pd.read_csv(\"processed_data\\combined_data\\with_background\\combined_2mers_meth_with_background.tsv\", sep=\"\\t\")\n",
    "Unmeth = pd.read_csv(\"processed_data\\combined_data\\with_background\\combined_2mers_unmeth_with_background.tsv\", sep=\"\\t\")\n",
    "Meth = Meth.drop(306)\n",
    "Unmeth = Unmeth.drop(306)\n",
    "Combined = [Meth,Unmeth]\n",
    "Healthy_Meth = Meth.loc[Meth[\"cancer\"]==\"Healthy\"]\n",
    "Healthy_Unmeth = Unmeth.loc[Unmeth[\"cancer\"]==\"Healthy\"]\n",
    "Data0 = Healthy_Meth\n",
    "Data1 = Healthy_Unmeth\n",
    "Combined = [Data0,Data1]\n",
    "X = pd.concat(Combined)\n",
    "X = X.iloc[: , :-1]\n",
    "y = [0] * Data0.shape[0] + [1] * Data1.shape[0]\n",
    "\n",
    "# Split data into training and testing sets\n",
    "X_train, X_test, y_train, y_test = train_test_split(X, y, test_size=0.5, random_state=42)\n",
    "\n",
    "\n",
    "\n",
    "# Create a pipeline with standardization and logistic regression with L1 regularization\n",
    "pipe = make_pipeline(StandardScaler(), LogisticRegression(penalty='l1', solver='liblinear'))\n",
    "\n",
    "# Define hyperparameters grid for GridSearchCV\n",
    "param_grid = {\n",
    "    'logisticregression__C': np.logspace(-3, 3, 7)  # Values for regularization parameter C\n",
    "}\n",
    "\n",
    "# Create GridSearchCV object\n",
    "grid_search = GridSearchCV(pipe, param_grid, cv=10, n_jobs=-1)\n",
    "\n",
    "# Fit the model using GridSearchCV\n",
    "grid_search.fit(X_train, y_train)\n",
    "\n",
    "# Get the best model from GridSearchCV\n",
    "best_model = grid_search.best_estimator_\n",
    "\n",
    "# Evaluate the best model\n",
    "train_accuracy = best_model.score(X_train, y_train)\n",
    "test_accuracy = best_model.score(X_test, y_test)\n",
    "\n",
    "print(\"Best model:\", best_model)\n",
    "print(\"Best parameter (C):\", grid_search.best_params_)\n",
    "print(\"Train accuracy:\", train_accuracy)\n",
    "print(\"Test accuracy:\", test_accuracy)\n"
   ]
  }
 ],
 "metadata": {
  "kernelspec": {
   "display_name": "Python 3",
   "language": "python",
   "name": "python3"
  },
  "language_info": {
   "codemirror_mode": {
    "name": "ipython",
    "version": 3
   },
   "file_extension": ".py",
   "mimetype": "text/x-python",
   "name": "python",
   "nbconvert_exporter": "python",
   "pygments_lexer": "ipython3",
   "version": "3.11.1"
  }
 },
 "nbformat": 4,
 "nbformat_minor": 2
}
