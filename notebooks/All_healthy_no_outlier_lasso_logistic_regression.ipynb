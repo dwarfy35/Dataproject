{
 "cells": [
  {
   "cell_type": "code",
   "execution_count": 9,
   "metadata": {},
   "outputs": [],
   "source": [
    "import pandas as pd\n",
    "import matplotlib.pyplot as plt\n",
    "import numpy as np\n",
    "from sklearn.decomposition import PCA \n",
    "from sklearn.cluster import KMeans\n",
    "from sklearn.linear_model import Lasso\n",
    "from sklearn.linear_model import LassoCV\n",
    "from sklearn.linear_model import LogisticRegressionCV\n",
    "from sklearn.metrics import jaccard_score\n",
    "import os"
   ]
  },
  {
   "cell_type": "code",
   "execution_count": 10,
   "metadata": {},
   "outputs": [],
   "source": [
    "os.chdir(\"C:\\\\Users\\\\tbrej\\\\Dataproject\")"
   ]
  },
  {
   "cell_type": "code",
   "execution_count": 11,
   "metadata": {},
   "outputs": [],
   "source": [
    "meth_even = pd.read_csv(\"processed_data\\combined_data\\split_with_background\\\\2mers_extend200\\combined_2mers_meth_even_with_background.tsv\", sep=\"\\t\")\n",
    "meth_odd = pd.read_csv(\"processed_data\\combined_data\\split_with_background\\\\2mers_extend200\\combined_2mers_meth_odd_with_background.tsv\", sep=\"\\t\")\n",
    "unmeth_even = pd.read_csv(\"processed_data\\combined_data\\split_with_background\\\\2mers_extend200\\combined_2mers_unmeth_even_with_background.tsv\", sep=\"\\t\")\n",
    "unmeth_odd = pd.read_csv(\"processed_data\\combined_data\\split_with_background\\\\2mers_extend200\\combined_2mers_unmeth_odd_with_background.tsv\", sep=\"\\t\")\n",
    "\n",
    "\n",
    "meth_even = meth_even.loc[meth_even[\"cancer\"]==\"Healthy\"]\n",
    "meth_odd = meth_odd.loc[meth_odd[\"cancer\"]==\"Healthy\"]\n",
    "unmeth_even = unmeth_even.loc[unmeth_even[\"cancer\"]==\"Healthy\"]\n",
    "unmeth_odd = unmeth_odd.loc[unmeth_odd[\"cancer\"]==\"Healthy\"]\n",
    "\n",
    "\n",
    "meth_even = meth_even.drop(306)\n",
    "meth_odd = meth_odd.drop(306)\n",
    "unmeth_even = unmeth_even.drop(306)\n",
    "unmeth_odd = unmeth_odd.drop(306)\n",
    "\n",
    "test = [meth_even, meth_odd, unmeth_even, unmeth_odd]\n",
    "test = pd.concat(test) \n",
    "test = test.iloc[: , :-1]\n",
    "\n",
    "def pca(train_data, test_data, n_comp): \n",
    "    dim_reduction = PCA(n_components= n_comp)\n",
    "    train_fit = dim_reduction.fit_transform(train_data)\n",
    "    test_fit = dim_reduction.transform(test_data)\n",
    "    return [train_fit, test_fit]"
   ]
  },
  {
   "cell_type": "code",
   "execution_count": 12,
   "metadata": {},
   "outputs": [
    {
     "name": "stdout",
     "output_type": "stream",
     "text": [
      "\n"
     ]
    }
   ],
   "source": [
    "training_data = [meth_even, unmeth_even]\n",
    "training_data = pd.concat(training_data) \n",
    "training_data = training_data.iloc[: , :-1]\n",
    "test_data = [meth_odd, unmeth_odd]\n",
    "test_data = pd.concat(test_data) \n",
    "test_data = test_data.iloc[: , :-1]\n",
    "\n",
    "train_targets = [0] * np.shape(meth_even)[0] + [1] * np.shape(unmeth_even)[0]\n",
    "\n",
    "\n",
    "test_targets = [0] * np.shape(meth_odd)[0] + [1] * np.shape(unmeth_odd)[0]\n",
    "\n",
    "train_fit, test_fit = pca(training_data, test_data, 16)\n"
   ]
  },
  {
   "cell_type": "code",
   "execution_count": 15,
   "metadata": {},
   "outputs": [
    {
     "name": "stdout",
     "output_type": "stream",
     "text": [
      "[-0.40554557 -3.29598781  1.22355036 -0.58457866  0.17964891 -1.92620352\n",
      " -0.80232758  4.58443285 -1.7614671   0.32069218  0.57330743  3.52049105\n",
      " -1.33494668  0.10022326 -3.22215578 21.83984768]\n"
     ]
    }
   ],
   "source": [
    "def pen_lasso(train_fit, train_targets, test_fit): \n",
    "    model = Lasso(alpha=0.00001).fit(train_fit, train_targets)\n",
    "    train_preds = model.predict(train_fit)\n",
    "    test_preds = model.predict(test_fit)\n",
    "    train_preds = train_preds.reshape(-1,1)\n",
    "    test_preds = train_preds.reshape(-1,1)\n",
    "    return [train_preds, test_preds, model.coef_]\n",
    "\n",
    "train_preds, test_preds, coef = pen_lasso(train_fit, train_targets, test_fit)\n",
    "print(coef)"
   ]
  },
  {
   "cell_type": "code",
   "execution_count": 14,
   "metadata": {},
   "outputs": [
    {
     "data": {
      "text/plain": [
       "1.0"
      ]
     },
     "execution_count": 14,
     "metadata": {},
     "output_type": "execute_result"
    }
   ],
   "source": [
    "def classification(train_preds, train_targets, test_preds): \n",
    "    model = LogisticRegressionCV(random_state=123).fit(train_preds, train_targets)\n",
    "    LR_test_pred = model.predict(test_preds)\n",
    "    return LR_test_pred\n",
    "\n",
    "LR_preds = classification(train_preds, train_targets, test_preds)\n",
    "\n",
    "\n",
    "\n",
    "LR_preds\n",
    "\n",
    "#Accuracy \n",
    "jaccard_score(test_targets, LR_preds)\n",
    "\n",
    "\n"
   ]
  }
 ],
 "metadata": {
  "kernelspec": {
   "display_name": "Python 3",
   "language": "python",
   "name": "python3"
  },
  "language_info": {
   "codemirror_mode": {
    "name": "ipython",
    "version": 3
   },
   "file_extension": ".py",
   "mimetype": "text/x-python",
   "name": "python",
   "nbconvert_exporter": "python",
   "pygments_lexer": "ipython3",
   "version": "3.11.3"
  }
 },
 "nbformat": 4,
 "nbformat_minor": 2
}
